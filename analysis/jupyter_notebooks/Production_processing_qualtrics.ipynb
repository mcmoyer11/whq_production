{
 "cells": [
  {
   "cell_type": "code",
   "execution_count": 1,
   "metadata": {},
   "outputs": [],
   "source": [
    "from __future__ import division\n",
    "import pandas as pd\n",
    "import seaborn as sns\n",
    "import matplotlib.pyplot as plt\n",
    "import matplotlib as mpl \n",
    "import numpy as np\n",
    "from nltk import word_tokenize\n",
    "from nltk import pos_tag\n",
    "import csv,json"
   ]
  },
  {
   "cell_type": "code",
   "execution_count": 2,
   "metadata": {},
   "outputs": [],
   "source": [
    "df = pd.read_csv(\"prod_raw.csv\")"
   ]
  },
  {
   "cell_type": "code",
   "execution_count": 356,
   "metadata": {},
   "outputs": [],
   "source": [
    "# remove the unwanted columns\n",
    "df = df.drop([\"RecordedDate\", \"ResponseId\", \"RecipientLastName\",\"Finished\",\"Duration (in seconds)\",\"Progress\",\"StartDate\",\"EndDate\",\"Status\",\"IPAddress\",\"RecipientFirstName\",\"RecipientEmail\",\"ExternalReference\",\"LocationLatitude\",\"LocationLongitude\",\"DistributionChannel\",\"UserLanguage\",\"Q21\"], axis=1)"
   ]
  },
  {
   "cell_type": "code",
   "execution_count": 357,
   "metadata": {},
   "outputs": [],
   "source": [
    "# to rename the columns\n",
    "# first take the names from the desired columns\n",
    "names = df.iloc[0]\n",
    "# rewrite the column names with those\n",
    "df.columns = names"
   ]
  },
  {
   "cell_type": "code",
   "execution_count": 358,
   "metadata": {},
   "outputs": [],
   "source": [
    "# drop unwanted rows\n",
    "df = df.drop([0,1,2],axis=0)\n",
    "\n",
    "# reset index and drop old index column\n",
    "df = df.reset_index(drop=True)"
   ]
  },
  {
   "cell_type": "code",
   "execution_count": 359,
   "metadata": {},
   "outputs": [],
   "source": [
    "df = df.rename(columns={'Please fill out the following fields. - Sona ID':'subject', 'Please fill out the following fields. - Native Language':'Nat_lang'})"
   ]
  },
  {
   "cell_type": "code",
   "execution_count": 360,
   "metadata": {},
   "outputs": [],
   "source": [
    "# create a column of numbers to asign subject numbers to NaN values\n",
    "nums = pd.Series(range(1,22))\n",
    "# replace the NaN values with the series of numbers\n",
    "df.subject = df.subject.fillna(value = nums)"
   ]
  },
  {
   "cell_type": "code",
   "execution_count": 361,
   "metadata": {},
   "outputs": [],
   "source": [
    "# convert wide to long\n",
    "df = pd.melt(df, id_vars=['subject','Nat_lang'], var_name='factors',value_name='response')"
   ]
  },
  {
   "cell_type": "code",
   "execution_count": 362,
   "metadata": {},
   "outputs": [],
   "source": [
    "df[\"response\"] = df.response.str.capitalize()"
   ]
  },
  {
   "cell_type": "code",
   "execution_count": 363,
   "metadata": {},
   "outputs": [
    {
     "data": {
      "text/html": [
       "<div>\n",
       "<style scoped>\n",
       "    .dataframe tbody tr th:only-of-type {\n",
       "        vertical-align: middle;\n",
       "    }\n",
       "\n",
       "    .dataframe tbody tr th {\n",
       "        vertical-align: top;\n",
       "    }\n",
       "\n",
       "    .dataframe thead th {\n",
       "        text-align: right;\n",
       "    }\n",
       "</style>\n",
       "<table border=\"1\" class=\"dataframe\">\n",
       "  <thead>\n",
       "    <tr style=\"text-align: right;\">\n",
       "      <th></th>\n",
       "      <th>subject</th>\n",
       "      <th>Nat_lang</th>\n",
       "      <th>factors</th>\n",
       "      <th>response</th>\n",
       "    </tr>\n",
       "  </thead>\n",
       "  <tbody>\n",
       "    <tr>\n",
       "      <td>0</td>\n",
       "      <td>1</td>\n",
       "      <td>NaN</td>\n",
       "      <td>practice_na_lamp_na</td>\n",
       "      <td>What lamp will provide enough light for reading?</td>\n",
       "    </tr>\n",
       "    <tr>\n",
       "      <td>1</td>\n",
       "      <td>2</td>\n",
       "      <td>NaN</td>\n",
       "      <td>practice_na_lamp_na</td>\n",
       "      <td>Where can i find a lamp with good lighting?</td>\n",
       "    </tr>\n",
       "    <tr>\n",
       "      <td>2</td>\n",
       "      <td>3</td>\n",
       "      <td>NaN</td>\n",
       "      <td>practice_na_lamp_na</td>\n",
       "      <td>How bright is this lamp?</td>\n",
       "    </tr>\n",
       "    <tr>\n",
       "      <td>3</td>\n",
       "      <td>4</td>\n",
       "      <td>NaN</td>\n",
       "      <td>practice_na_lamp_na</td>\n",
       "      <td>Do you have a lamp that will provide enough li...</td>\n",
       "    </tr>\n",
       "    <tr>\n",
       "      <td>4</td>\n",
       "      <td>5</td>\n",
       "      <td>NaN</td>\n",
       "      <td>practice_na_lamp_na</td>\n",
       "      <td>What is your brightest lamp?</td>\n",
       "    </tr>\n",
       "    <tr>\n",
       "      <td>...</td>\n",
       "      <td>...</td>\n",
       "      <td>...</td>\n",
       "      <td>...</td>\n",
       "      <td>...</td>\n",
       "    </tr>\n",
       "    <tr>\n",
       "      <td>1945</td>\n",
       "      <td>16921</td>\n",
       "      <td>English</td>\n",
       "      <td>filler-na-potluck-na</td>\n",
       "      <td>What is a recipe for olive tapenade?</td>\n",
       "    </tr>\n",
       "    <tr>\n",
       "      <td>1946</td>\n",
       "      <td>16750</td>\n",
       "      <td>English</td>\n",
       "      <td>filler-na-potluck-na</td>\n",
       "      <td>How do you make olive tapenade?</td>\n",
       "    </tr>\n",
       "    <tr>\n",
       "      <td>1947</td>\n",
       "      <td>17659</td>\n",
       "      <td>English</td>\n",
       "      <td>filler-na-potluck-na</td>\n",
       "      <td>How do you make a olive tapenade?</td>\n",
       "    </tr>\n",
       "    <tr>\n",
       "      <td>1948</td>\n",
       "      <td>NaN</td>\n",
       "      <td>NaN</td>\n",
       "      <td>filler-na-potluck-na</td>\n",
       "      <td>NaN</td>\n",
       "    </tr>\n",
       "    <tr>\n",
       "      <td>1949</td>\n",
       "      <td>17671</td>\n",
       "      <td>English</td>\n",
       "      <td>filler-na-potluck-na</td>\n",
       "      <td>Siri, what are some olive tapenade recipes?</td>\n",
       "    </tr>\n",
       "  </tbody>\n",
       "</table>\n",
       "<p>1950 rows × 4 columns</p>\n",
       "</div>"
      ],
      "text/plain": [
       "     subject  Nat_lang               factors  \\\n",
       "0          1       NaN   practice_na_lamp_na   \n",
       "1          2       NaN   practice_na_lamp_na   \n",
       "2          3       NaN   practice_na_lamp_na   \n",
       "3          4       NaN   practice_na_lamp_na   \n",
       "4          5       NaN   practice_na_lamp_na   \n",
       "...      ...       ...                   ...   \n",
       "1945  16921    English  filler-na-potluck-na   \n",
       "1946   16750  English   filler-na-potluck-na   \n",
       "1947   17659   English  filler-na-potluck-na   \n",
       "1948     NaN       NaN  filler-na-potluck-na   \n",
       "1949   17671   English  filler-na-potluck-na   \n",
       "\n",
       "                                               response  \n",
       "0      What lamp will provide enough light for reading?  \n",
       "1           Where can i find a lamp with good lighting?  \n",
       "2                             How bright is this lamp?   \n",
       "3     Do you have a lamp that will provide enough li...  \n",
       "4                          What is your brightest lamp?  \n",
       "...                                                 ...  \n",
       "1945               What is a recipe for olive tapenade?  \n",
       "1946                    How do you make olive tapenade?  \n",
       "1947                  How do you make a olive tapenade?  \n",
       "1948                                                NaN  \n",
       "1949        Siri, what are some olive tapenade recipes?  \n",
       "\n",
       "[1950 rows x 4 columns]"
      ]
     },
     "execution_count": 363,
     "metadata": {},
     "output_type": "execute_result"
    }
   ],
   "source": [
    "df"
   ]
  },
  {
   "cell_type": "code",
   "execution_count": 364,
   "metadata": {},
   "outputs": [],
   "source": [
    "# df.to_csv(\"wrangled.csv\")"
   ]
  },
  {
   "cell_type": "code",
   "execution_count": 365,
   "metadata": {},
   "outputs": [],
   "source": [
    "df['factors'] = df['factors'].replace('_','-', regex=True)"
   ]
  },
  {
   "cell_type": "code",
   "execution_count": 378,
   "metadata": {},
   "outputs": [],
   "source": [
    "# df"
   ]
  },
  {
   "cell_type": "code",
   "execution_count": 367,
   "metadata": {},
   "outputs": [],
   "source": [
    "# first split the facts column into the component factors\n",
    "new = df['factors'].str.split('-', n=4, expand = True)\n",
    "\n",
    "# then put them back into the original df with proper factor names\n",
    "df[\"trial\"] = new[0]\n",
    "df[\"stakes\"] = new[1]\n",
    "df[\"story\"] = new[2]\n",
    "df[\"wh\"] = new[3]"
   ]
  },
  {
   "cell_type": "code",
   "execution_count": 368,
   "metadata": {},
   "outputs": [],
   "source": [
    "df = df.dropna(subset=['response'])\n",
    "df = df.fillna({'Nat_lang':'na'})"
   ]
  },
  {
   "cell_type": "code",
   "execution_count": 377,
   "metadata": {},
   "outputs": [
    {
     "data": {
      "text/plain": [
       "array([1.0, 2.0, 3.0, 4.0, 5.0, 6.0, 7.0, 8.0, 9.0, 10.0, 11.0, 12.0,\n",
       "       13.0, 14.0, 15.0, 16.0, 17.0, 18.0, 19.0, 20.0, 21.0, '17617',\n",
       "       '17026', '16918', '16570', '17926', '17899', '17245', 'jmc835',\n",
       "       '18247', '17197', '18148', '16921 ', '16750', '17659', '17671'],\n",
       "      dtype=object)"
      ]
     },
     "execution_count": 377,
     "metadata": {},
     "output_type": "execute_result"
    }
   ],
   "source": [
    "df.subject.unique()"
   ]
  },
  {
   "cell_type": "code",
   "execution_count": 379,
   "metadata": {},
   "outputs": [],
   "source": [
    "test = df.loc[df[\"stakes\"].isin(['high','low'])]"
   ]
  },
  {
   "cell_type": "code",
   "execution_count": 380,
   "metadata": {},
   "outputs": [
    {
     "data": {
      "text/html": [
       "<div>\n",
       "<style scoped>\n",
       "    .dataframe tbody tr th:only-of-type {\n",
       "        vertical-align: middle;\n",
       "    }\n",
       "\n",
       "    .dataframe tbody tr th {\n",
       "        vertical-align: top;\n",
       "    }\n",
       "\n",
       "    .dataframe thead th {\n",
       "        text-align: right;\n",
       "    }\n",
       "</style>\n",
       "<table border=\"1\" class=\"dataframe\">\n",
       "  <thead>\n",
       "    <tr style=\"text-align: right;\">\n",
       "      <th></th>\n",
       "      <th>subject</th>\n",
       "      <th>Nat_lang</th>\n",
       "      <th>factors</th>\n",
       "      <th>response</th>\n",
       "      <th>trial</th>\n",
       "      <th>stakes</th>\n",
       "      <th>story</th>\n",
       "      <th>wh</th>\n",
       "    </tr>\n",
       "  </thead>\n",
       "  <tbody>\n",
       "    <tr>\n",
       "      <td>117</td>\n",
       "      <td>1</td>\n",
       "      <td>na</td>\n",
       "      <td>test-high-oyster-where</td>\n",
       "      <td>Where are the most contaminated oysters found?</td>\n",
       "      <td>test</td>\n",
       "      <td>high</td>\n",
       "      <td>oyster</td>\n",
       "      <td>where</td>\n",
       "    </tr>\n",
       "    <tr>\n",
       "      <td>118</td>\n",
       "      <td>2</td>\n",
       "      <td>na</td>\n",
       "      <td>test-high-oyster-where</td>\n",
       "      <td>Where are the oysters concentrated the most?</td>\n",
       "      <td>test</td>\n",
       "      <td>high</td>\n",
       "      <td>oyster</td>\n",
       "      <td>where</td>\n",
       "    </tr>\n",
       "    <tr>\n",
       "      <td>119</td>\n",
       "      <td>3</td>\n",
       "      <td>na</td>\n",
       "      <td>test-high-oyster-where</td>\n",
       "      <td>Where are the contaminated oysters?</td>\n",
       "      <td>test</td>\n",
       "      <td>high</td>\n",
       "      <td>oyster</td>\n",
       "      <td>where</td>\n",
       "    </tr>\n",
       "    <tr>\n",
       "      <td>120</td>\n",
       "      <td>4</td>\n",
       "      <td>na</td>\n",
       "      <td>test-high-oyster-where</td>\n",
       "      <td>Which restaurants sell oysters?</td>\n",
       "      <td>test</td>\n",
       "      <td>high</td>\n",
       "      <td>oyster</td>\n",
       "      <td>where</td>\n",
       "    </tr>\n",
       "    <tr>\n",
       "      <td>121</td>\n",
       "      <td>5</td>\n",
       "      <td>na</td>\n",
       "      <td>test-high-oyster-where</td>\n",
       "      <td>Where are the contaminated oysters?</td>\n",
       "      <td>test</td>\n",
       "      <td>high</td>\n",
       "      <td>oyster</td>\n",
       "      <td>where</td>\n",
       "    </tr>\n",
       "  </tbody>\n",
       "</table>\n",
       "</div>"
      ],
      "text/plain": [
       "    subject Nat_lang                 factors  \\\n",
       "117       1       na  test-high-oyster-where   \n",
       "118       2       na  test-high-oyster-where   \n",
       "119       3       na  test-high-oyster-where   \n",
       "120       4       na  test-high-oyster-where   \n",
       "121       5       na  test-high-oyster-where   \n",
       "\n",
       "                                           response trial stakes   story  \\\n",
       "117  Where are the most contaminated oysters found?  test   high  oyster   \n",
       "118    Where are the oysters concentrated the most?  test   high  oyster   \n",
       "119            Where are the contaminated oysters?   test   high  oyster   \n",
       "120                 Which restaurants sell oysters?  test   high  oyster   \n",
       "121             Where are the contaminated oysters?  test   high  oyster   \n",
       "\n",
       "        wh  \n",
       "117  where  \n",
       "118  where  \n",
       "119  where  \n",
       "120  where  \n",
       "121  where  "
      ]
     },
     "execution_count": 380,
     "metadata": {},
     "output_type": "execute_result"
    }
   ],
   "source": [
    "test.head()"
   ]
  },
  {
   "cell_type": "code",
   "execution_count": 383,
   "metadata": {},
   "outputs": [],
   "source": [
    "high = df.loc[df[\"stakes\"].isin([\"high\"])]\n",
    "low = df.loc[df[\"stakes\"].isin([\"low\"])]\n",
    "oyster = df.loc[df[\"story\"].isin([\"oyster\"])]"
   ]
  },
  {
   "cell_type": "code",
   "execution_count": 384,
   "metadata": {},
   "outputs": [
    {
     "data": {
      "text/plain": [
       "576"
      ]
     },
     "execution_count": 384,
     "metadata": {},
     "output_type": "execute_result"
    }
   ],
   "source": [
    "len(test)"
   ]
  },
  {
   "cell_type": "code",
   "execution_count": 385,
   "metadata": {},
   "outputs": [],
   "source": [
    "avg = test.groupby(['stakes','story','response'])['response'].count()\n",
    "avg.to_csv(\"grouped.csv\", header=True)"
   ]
  },
  {
   "cell_type": "code",
   "execution_count": 386,
   "metadata": {},
   "outputs": [],
   "source": [
    "can = test.loc[test[\"response\"].str.contains(\"can\")]\n",
    "which = test.loc[test[\"response\"].str.contains(\"Which\")]\n",
    "how = test.loc[test[\"response\"].str.contains(\"How\")]\n",
    "who = test.loc[test.response.str.contains(\"Who\")]\n",
    "where = test.loc[test.response.str.contains(\"Where\")]\n",
    "what = test.loc[test.response.str.contains(\"What\")]\n",
    "polar = test.loc[test.response.str.contains(\"Are|Can|Do|Have|Is|Has\")]\n",
    "siri = test.loc[test.response.str.contains(\"Siri\")]"
   ]
  },
  {
   "cell_type": "code",
   "execution_count": null,
   "metadata": {},
   "outputs": [],
   "source": []
  },
  {
   "cell_type": "code",
   "execution_count": 388,
   "metadata": {},
   "outputs": [
    {
     "data": {
      "text/plain": [
       "stakes\n",
       "high     7.465278\n",
       "low     11.805556\n",
       "Name: stakes, dtype: float64"
      ]
     },
     "execution_count": 388,
     "metadata": {},
     "output_type": "execute_result"
    }
   ],
   "source": [
    "polargroups = polar.groupby(['stakes'])['stakes'].count().apply(lambda x: 100 * x/len(test))\n",
    "polargroups"
   ]
  },
  {
   "cell_type": "code",
   "execution_count": 389,
   "metadata": {},
   "outputs": [
    {
     "data": {
      "text/plain": [
       "stakes\n",
       "high    77.419355\n",
       "low     22.580645\n",
       "Name: stakes, dtype: float64"
      ]
     },
     "execution_count": 389,
     "metadata": {},
     "output_type": "execute_result"
    }
   ],
   "source": [
    "whichgroups = which.groupby(['stakes'])['stakes'].count()\n",
    "whichgroups.apply(lambda x: 100* x/len(which))"
   ]
  },
  {
   "cell_type": "code",
   "execution_count": 390,
   "metadata": {},
   "outputs": [],
   "source": [
    "all = test.loc[test[\"response\"].str.contains(\"all\")]\n",
    "some = test.loc[test[\"response\"].str.contains(\"some\")]\n",
    "close = test.loc[test[\"response\"].str.contains(\"close\")]\n",
    "local = test.loc[test[\"response\"].str.contains(\"local\")]"
   ]
  },
  {
   "cell_type": "code",
   "execution_count": null,
   "metadata": {},
   "outputs": [],
   "source": []
  },
  {
   "cell_type": "code",
   "execution_count": 393,
   "metadata": {},
   "outputs": [
    {
     "name": "stdout",
     "output_type": "stream",
     "text": [
      "Total in Test: 576\n",
      "Occurrences of 'can' in test: 27 \n",
      "\t Can: 4.69%\n",
      "Occurrences of 'all': 20 \n",
      "\t All: 3.47%\n",
      "Occurrences of 'some': 15 \n",
      "\t Some: 2.60%\n",
      "Occurrences of 'close': 20 \n",
      "\t Close: 3.47%\n",
      "Occurrences of 'local': 10 \n",
      "\t Local: 1.74%\n",
      "Occurrences of 'which': 62 \n",
      "\t Which: 10.76%\n",
      "Occurrences of 'where': 226 \n",
      "\t Where: 39.24%\n",
      "Occurrences of 'who': 15 \n",
      "\t Who: 2.60%\n",
      "Occurrences of 'how': 39 \n",
      "\t How: 6.77%\n",
      "Occurrences of 'what': 113 \n",
      "\t What: 19.62%\n",
      "Occurrences of polar-q: 111 \n",
      "\t Polar: 19.27%\n",
      "Total with a wh-word: 78.99%\n"
     ]
    }
   ],
   "source": [
    "print(f\"Total in Test: {len(test)}\")\n",
    "print(f\"Occurrences of 'can' in test: {len(can)} \\n\\t Can: {len(can)/len(test)*100:.2f}%\")\n",
    "print(f\"Occurrences of 'all': {len(all)} \\n\\t All: {len(all)/len(test)*100:.2f}%\")\n",
    "print(f\"Occurrences of 'some': {len(some)} \\n\\t Some: {len(some)/len(test)*100:.2f}%\")\n",
    "print(f\"Occurrences of 'close': {len(close)} \\n\\t Close: {len(close)/len(test)*100:.2f}%\")\n",
    "print(f\"Occurrences of 'local': {len(local)} \\n\\t Local: {len(local)/len(test)*100:.2f}%\")\n",
    "print(f\"Occurrences of 'which': {len(which)} \\n\\t Which: {len(which)/len(test)*100:.2f}%\")\n",
    "print(f\"Occurrences of 'where': {len(where)} \\n\\t Where: {len(where)/len(test)*100:.2f}%\")\n",
    "print(f\"Occurrences of 'who': {len(who)} \\n\\t Who: {len(who)/len(test)*100:.2f}%\")\n",
    "print(f\"Occurrences of 'how': {len(how)} \\n\\t How: {len(how)/len(test)*100:.2f}%\")\n",
    "print(f\"Occurrences of 'what': {len(what)} \\n\\t What: {len(what)/len(test)*100:.2f}%\")\n",
    "print(f\"Occurrences of polar-q: {len(polar)} \\n\\t Polar: {len(polar)/len(test)*100:.2f}%\")\n",
    "\n",
    " \n",
    "print(f\"Total with a wh-word: {(len(how)+len(which)+len(where)+len(who)+len(what))/len(test)*100:.2f}%\")"
   ]
  },
  {
   "cell_type": "code",
   "execution_count": null,
   "metadata": {},
   "outputs": [],
   "source": []
  },
  {
   "cell_type": "code",
   "execution_count": 394,
   "metadata": {},
   "outputs": [],
   "source": [
    "# first rename the 'response' column so that the parser can run\n",
    "df = df.rename(columns={'response':'sentence'})\n",
    "# save as csv\n",
    "df.to_csv(\"wrangled.csv\")"
   ]
  },
  {
   "cell_type": "code",
   "execution_count": 261,
   "metadata": {},
   "outputs": [],
   "source": [
    "# # write some functions to label these questions\n",
    "# # for questType\n",
    "\n",
    "# def label_quest (row) : \n",
    "#     if row[\"response\"].str.contains('Which'):\n",
    "#         return \"which\"\n",
    "#     if row[\"response\"].str.contains('which'):\n",
    "#         return \"which\"\n",
    "#     if row[\"response\"].str.contains(\"Can\"):\n",
    "#         return \"polar\"\n",
    "#     if row[\"response\"].str.contains(\"Do\"):\n",
    "#         return \"polar\"\n",
    "#     if row[\"response\"].str.contains(\"Is\"):\n",
    "#         return \"polar\"\n",
    "#     if row[\"response\"].str.contains(\"Are\"):\n",
    "#         return \"polar\"\n",
    "#     if row[\"response\"].str.contains(\"Have\"):\n",
    "#         return \"polar\"\n",
    "#     if row[\"response\"].str.contains(\"Do\"):\n",
    "#         return \"polar\"\n",
    "#     if row[\"response\"].str.contains(\"can\"):\n",
    "#         return \"modal\"\n",
    "#     if row[\"response\"].str.contains(\"Who\"):\n",
    "#         return \"who\"\n",
    "#     if row[\"response\"].str.contains(\"who\"):\n",
    "#         return \"who\"\n",
    "#     if row[\"response\"].str.contains(\"How\"):\n",
    "#         return \"how\"\n",
    "#     if row[\"response\"].str.contains(\"how\"):\n",
    "#         return \"how\"\n",
    "#     if row[\"response\"].str.contains(\"Where\"):\n",
    "#         return \"where\"\n",
    "#     if row[\"response\"].str.contains(\"where\"):\n",
    "#         return \"where\"\n",
    "#     if row[\"response\"].str.contains(\"What\"):\n",
    "#         return \"what\"\n",
    "#     if row[\"response\"].str.contains(\"what\"):\n",
    "#         return \"what\"\n",
    "# #     if row[\"response\"].str.contains(\"all\"):\n",
    "# #         return \"universal\"\n",
    "# #     if row[\"response\"].str.contains(\"some\"):\n",
    "# #         return \"existential\"\n",
    "# #     if row[\"response\"].str.contains(\"the\"):\n",
    "# #         return \"definite\"\n",
    "# #     if row[\"response\"].str.contains(\"an\"):\n",
    "# #         return \"indefinite\"\n",
    "# #     if row[\"response\"].str.contains(\"local\"):\n",
    "# #         return \"local\"\n",
    "# #     if row[\"response\"].str.contains(\"close\"):\n",
    "# #         return \"close\"\n",
    "#     return \"other\"\n",
    "    "
   ]
  },
  {
   "cell_type": "code",
   "execution_count": 386,
   "metadata": {},
   "outputs": [],
   "source": [
    "# df[\"qType\"] = df.apply(lambda x: label_quest(x))"
   ]
  },
  {
   "cell_type": "code",
   "execution_count": 353,
   "metadata": {},
   "outputs": [],
   "source": [
    "# Convert CSV to JSON for running the parser\n",
    "csvFilePath = 'wrangled.csv'\n",
    "jsonFilePath = 'production.json'\n",
    "\n",
    "j = pd.read_csv(csvFilePath)\n",
    "\n",
    "with open(jsonFilePath, 'w') as jas:\n",
    "    jas.write(j.to_json(orient='records'))"
   ]
  },
  {
   "cell_type": "code",
   "execution_count": null,
   "metadata": {},
   "outputs": [],
   "source": []
  },
  {
   "cell_type": "code",
   "execution_count": null,
   "metadata": {},
   "outputs": [],
   "source": []
  }
 ],
 "metadata": {
  "kernelspec": {
   "display_name": "Python 3",
   "language": "python",
   "name": "python3"
  },
  "language_info": {
   "codemirror_mode": {
    "name": "ipython",
    "version": 3
   },
   "file_extension": ".py",
   "mimetype": "text/x-python",
   "name": "python",
   "nbconvert_exporter": "python",
   "pygments_lexer": "ipython3",
   "version": "3.7.4"
  }
 },
 "nbformat": 4,
 "nbformat_minor": 2
}
