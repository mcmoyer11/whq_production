{
 "cells": [
  {
   "cell_type": "code",
   "execution_count": 1,
   "metadata": {},
   "outputs": [],
   "source": [
    "from __future__ import division\n",
    "import pandas as pd\n",
    "import seaborn as sns\n",
    "import matplotlib.pyplot as plt\n",
    "import matplotlib as mpl \n",
    "import numpy as np\n",
    "import re\n",
    "from nltk import word_tokenize\n",
    "from nltk import pos_tag"
   ]
  },
  {
   "cell_type": "code",
   "execution_count": 2,
   "metadata": {},
   "outputs": [],
   "source": [
    "df = pd.read_json(\"edited_edited_corpus.json\")"
   ]
  },
  {
   "cell_type": "code",
   "execution_count": 3,
   "metadata": {},
   "outputs": [],
   "source": [
    "# This makes the display show more info\n",
    "pd.set_option('display.max_rows', 100)\n",
    "pd.set_option('display.max_colwidth', -1)"
   ]
  },
  {
   "cell_type": "markdown",
   "metadata": {},
   "source": [
    "# 4. The tell-DP-wh surprise-DP-wh errors\n",
    "Several legitimate embedded verbs which include DP objects in addition to CP objects are being caught by the relative clause heuristic. In this section we try to save them.\n",
    "\n",
    "Verbs that must be transferred to Embedded Clause:\n",
    "- know\n",
    "- tell\n",
    "- surprise\n",
    "- depe"
   ]
  },
  {
   "cell_type": "code",
   "execution_count": 4,
   "metadata": {},
   "outputs": [],
   "source": [
    "rel = df.loc[df.questType.isin([\"Relative Clause\"])]"
   ]
  },
  {
   "cell_type": "code",
   "execution_count": 394,
   "metadata": {},
   "outputs": [
    {
     "data": {
      "text/plain": [
       "330027"
      ]
     },
     "execution_count": 394,
     "metadata": {},
     "output_type": "execute_result"
    }
   ],
   "source": [
    "len(rel)"
   ]
  },
  {
   "cell_type": "markdown",
   "metadata": {},
   "source": [
    "### Check out the verbs to see whether there are any other obvious cases that we might have missed\n",
    "First cut off the verbs at most frequent"
   ]
  },
  {
   "cell_type": "code",
   "execution_count": 4,
   "metadata": {},
   "outputs": [
    {
     "data": {
      "text/plain": [
       "be          54267\n",
       "know         9742\n",
       "'s           7282\n",
       "have         6812\n",
       "see          4923\n",
       "            ...  \n",
       "Cheesed         1\n",
       "Target          1\n",
       "sync            1\n",
       "deluge          1\n",
       "celibate        1\n",
       "Name: mat_verb, Length: 7284, dtype: int64"
      ]
     },
     "execution_count": 4,
     "metadata": {},
     "output_type": "execute_result"
    }
   ],
   "source": [
    "rel.mat_verb.value_counts()"
   ]
  },
  {
   "cell_type": "code",
   "execution_count": 22,
   "metadata": {},
   "outputs": [],
   "source": [
    "rel_freq_vs = rel.groupby('mat_verb').filter(lambda x: len(x) >= 2000)"
   ]
  },
  {
   "cell_type": "code",
   "execution_count": 23,
   "metadata": {},
   "outputs": [
    {
     "data": {
      "text/plain": [
       "mat_verb\n",
       "'s      0.061813\n",
       "ask     0.017181\n",
       "be      0.460643\n",
       "come    0.020109\n",
       "do      0.021968\n",
       "find    0.022112\n",
       "get     0.026009\n",
       "give    0.022070\n",
       "go      0.025686\n",
       "have    0.057823\n",
       "know    0.082695\n",
       "make    0.025720\n",
       "say     0.040091\n",
       "see     0.041789\n",
       "take    0.024235\n",
       "tell    0.031042\n",
       "‘       0.019014\n",
       "Name: sentence, dtype: float64"
      ]
     },
     "execution_count": 23,
     "metadata": {},
     "output_type": "execute_result"
    }
   ],
   "source": [
    "# rel_freq_vs.groupby([\"mat_verb\"])[\"mat_verb\"].count()\n",
    "\n",
    "rel_freq_vs.pivot_table(index=['mat_verb'], values='sentence', aggfunc=len).sentence.transform(lambda x: x/sum(x))"
   ]
  },
  {
   "cell_type": "markdown",
   "metadata": {},
   "source": [
    "It looks like there are several good cases"
   ]
  },
  {
   "cell_type": "markdown",
   "metadata": {},
   "source": [
    "## Know"
   ]
  },
  {
   "cell_type": "code",
   "execution_count": 27,
   "metadata": {},
   "outputs": [],
   "source": [
    "know = rel.loc[rel.mat_verb.isin([\"know\"])]"
   ]
  },
  {
   "cell_type": "code",
   "execution_count": 28,
   "metadata": {},
   "outputs": [
    {
     "data": {
      "text/plain": [
       "9742"
      ]
     },
     "execution_count": 28,
     "metadata": {},
     "output_type": "execute_result"
    }
   ],
   "source": [
    "len(know)"
   ]
  },
  {
   "cell_type": "code",
   "execution_count": 29,
   "metadata": {},
   "outputs": [],
   "source": [
    "# know.sentence"
   ]
  },
  {
   "cell_type": "code",
   "execution_count": 7,
   "metadata": {},
   "outputs": [],
   "source": [
    "knowwh = rel.loc[rel.sentence.str.contains(\"know where|know how|know who\")]\n",
    "knewwh = rel.loc[rel.sentence.str.contains(\"knew where|knew how|knew who\")]\n",
    "knowswh = rel.loc[rel.sentence.str.contains(\"knows where|knows how|knows who\")]"
   ]
  },
  {
   "cell_type": "code",
   "execution_count": 10,
   "metadata": {},
   "outputs": [
    {
     "data": {
      "text/plain": [
       "756"
      ]
     },
     "execution_count": 10,
     "metadata": {},
     "output_type": "execute_result"
    }
   ],
   "source": [
    "len(knewwh)"
   ]
  },
  {
   "cell_type": "code",
   "execution_count": 11,
   "metadata": {},
   "outputs": [
    {
     "data": {
      "text/plain": [
       "575"
      ]
     },
     "execution_count": 11,
     "metadata": {},
     "output_type": "execute_result"
    }
   ],
   "source": [
    "len(knowswh)"
   ]
  },
  {
   "cell_type": "code",
   "execution_count": 8,
   "metadata": {},
   "outputs": [
    {
     "data": {
      "text/plain": [
       "5869"
      ]
     },
     "execution_count": 8,
     "metadata": {},
     "output_type": "execute_result"
    }
   ],
   "source": [
    "len(knowwh)"
   ]
  },
  {
   "cell_type": "code",
   "execution_count": 27,
   "metadata": {},
   "outputs": [],
   "source": [
    "# knowswh.sentence"
   ]
  },
  {
   "cell_type": "code",
   "execution_count": 25,
   "metadata": {},
   "outputs": [],
   "source": [
    "# get indexes\n",
    "k1 = knewwh.index.values.tolist()\n",
    "k2 = knowwh.index.values.tolist() \n",
    "k3 = knowswh.index.values.tolist()\n",
    "\n",
    "# put them together unpacked\n",
    "know_indexes = [*k1,*k2,*k3]"
   ]
  },
  {
   "cell_type": "code",
   "execution_count": 23,
   "metadata": {},
   "outputs": [],
   "source": []
  },
  {
   "cell_type": "code",
   "execution_count": null,
   "metadata": {},
   "outputs": [],
   "source": []
  },
  {
   "cell_type": "code",
   "execution_count": 26,
   "metadata": {},
   "outputs": [],
   "source": [
    "# now edit the DF\n",
    "\n",
    "df.at[know_indexes,'questType'] = 'Embeded Question'"
   ]
  },
  {
   "cell_type": "markdown",
   "metadata": {},
   "source": [
    "## Become"
   ]
  },
  {
   "cell_type": "code",
   "execution_count": 58,
   "metadata": {},
   "outputs": [],
   "source": [
    "become = rel.loc[rel.mat_verb.isin([\"become\"])]"
   ]
  },
  {
   "cell_type": "code",
   "execution_count": 59,
   "metadata": {},
   "outputs": [
    {
     "data": {
      "text/plain": [
       "900"
      ]
     },
     "execution_count": 59,
     "metadata": {},
     "output_type": "execute_result"
    }
   ],
   "source": [
    "len(become)"
   ]
  },
  {
   "cell_type": "code",
   "execution_count": 54,
   "metadata": {},
   "outputs": [],
   "source": [
    "becomewh = rel.loc[rel.sentence.str.contains(\"become where|become how|become who\")]"
   ]
  },
  {
   "cell_type": "code",
   "execution_count": 57,
   "metadata": {},
   "outputs": [
    {
     "data": {
      "text/plain": [
       "109961    From everything she says, it's clear this gilgul's been on the scene for quite a while — there is no way she could have learned what she's learned, cleaned up her act and become who she is now if the only time she's had to do it in was the brief interval between our confrontation at the Mephistco stand and her appearance on the beach at Bournemouth.\n",
       "Name: sentence, dtype: object"
      ]
     },
     "execution_count": 57,
     "metadata": {},
     "output_type": "execute_result"
    }
   ],
   "source": [
    "becomewh.sentence"
   ]
  },
  {
   "cell_type": "code",
   "execution_count": 55,
   "metadata": {},
   "outputs": [
    {
     "data": {
      "text/plain": [
       "1"
      ]
     },
     "execution_count": 55,
     "metadata": {},
     "output_type": "execute_result"
    }
   ],
   "source": [
    "len(becomewh)"
   ]
  },
  {
   "cell_type": "code",
   "execution_count": null,
   "metadata": {},
   "outputs": [],
   "source": []
  },
  {
   "cell_type": "code",
   "execution_count": 46,
   "metadata": {},
   "outputs": [
    {
     "data": {
      "text/plain": [
       "900"
      ]
     },
     "execution_count": 46,
     "metadata": {},
     "output_type": "execute_result"
    }
   ],
   "source": []
  },
  {
   "cell_type": "markdown",
   "metadata": {},
   "source": [
    "## Consider"
   ]
  },
  {
   "cell_type": "code",
   "execution_count": 14,
   "metadata": {},
   "outputs": [],
   "source": [
    "consider = rel.loc[rel.mat_verb.isin([\"consider\"])]"
   ]
  },
  {
   "cell_type": "code",
   "execution_count": 15,
   "metadata": {},
   "outputs": [
    {
     "data": {
      "text/plain": [
       "646"
      ]
     },
     "execution_count": 15,
     "metadata": {},
     "output_type": "execute_result"
    }
   ],
   "source": [
    "len(consider)"
   ]
  },
  {
   "cell_type": "code",
   "execution_count": 28,
   "metadata": {},
   "outputs": [],
   "source": [
    "considerwh = rel.loc[rel.sentence.str.contains(\"consider where|consider how|consider who\")]\n",
    "consideredwh = rel.loc[rel.sentence.str.contains(\"considered where|considered how|considered who\")]\n",
    "considerswh = rel.loc[rel.sentence.str.contains(\"considers where|considers how|considers who\")]"
   ]
  },
  {
   "cell_type": "code",
   "execution_count": 30,
   "metadata": {},
   "outputs": [
    {
     "data": {
      "text/plain": [
       "15"
      ]
     },
     "execution_count": 30,
     "metadata": {},
     "output_type": "execute_result"
    }
   ],
   "source": [
    "len(considerswh)"
   ]
  },
  {
   "cell_type": "code",
   "execution_count": 32,
   "metadata": {},
   "outputs": [],
   "source": [
    "# get indexes\n",
    "c1 = considerwh.index.values.tolist()\n",
    "c2 = consideredwh.index.values.tolist() \n",
    "c3 = consideredwh.index.values.tolist()\n",
    "\n",
    "# put them together unpacked\n",
    "consider_indexes = [*c1,*c2,*c3]"
   ]
  },
  {
   "cell_type": "code",
   "execution_count": 33,
   "metadata": {},
   "outputs": [],
   "source": [
    "# now edit the DF\n",
    "df.at[consider_indexes,'questType'] = 'Embeded Question'"
   ]
  },
  {
   "cell_type": "markdown",
   "metadata": {},
   "source": [
    "## Explain"
   ]
  },
  {
   "cell_type": "code",
   "execution_count": 34,
   "metadata": {},
   "outputs": [],
   "source": [
    "explain = rel.loc[rel.mat_verb.isin([\"explain\"])]"
   ]
  },
  {
   "cell_type": "code",
   "execution_count": 35,
   "metadata": {},
   "outputs": [],
   "source": [
    "explainwh = rel.loc[rel.sentence.str.contains(\"explain where|explain how|explain who\")]\n",
    "explainedwh = rel.loc[rel.sentence.str.contains(\"explained where|explained how|explained who\")]\n",
    "explainswh = rel.loc[rel.sentence.str.contains(\"explains where|explains how|explains who\")]"
   ]
  },
  {
   "cell_type": "code",
   "execution_count": 37,
   "metadata": {},
   "outputs": [],
   "source": [
    "# get indexes\n",
    "e1 = explainwh.index.values.tolist()\n",
    "e2 = explainedwh.index.values.tolist() \n",
    "e3 = explainedwh.index.values.tolist()\n",
    "\n",
    "# put them together unpacked\n",
    "explain_indexes = [*e1,*e2,*e3]"
   ]
  },
  {
   "cell_type": "code",
   "execution_count": 38,
   "metadata": {},
   "outputs": [],
   "source": [
    "# now edit the DF\n",
    "df.at[explain_indexes,'questType'] = 'Embeded Question'"
   ]
  },
  {
   "cell_type": "code",
   "execution_count": null,
   "metadata": {},
   "outputs": [],
   "source": []
  },
  {
   "cell_type": "markdown",
   "metadata": {},
   "source": [
    "## Depend"
   ]
  },
  {
   "cell_type": "code",
   "execution_count": 39,
   "metadata": {},
   "outputs": [],
   "source": [
    "depend = rel.loc[rel.mat_verb.isin([\"depend\"])]"
   ]
  },
  {
   "cell_type": "code",
   "execution_count": null,
   "metadata": {},
   "outputs": [],
   "source": []
  },
  {
   "cell_type": "code",
   "execution_count": 19,
   "metadata": {},
   "outputs": [
    {
     "data": {
      "text/plain": [
       "682"
      ]
     },
     "execution_count": 19,
     "metadata": {},
     "output_type": "execute_result"
    }
   ],
   "source": [
    "len(depend)"
   ]
  },
  {
   "cell_type": "code",
   "execution_count": 40,
   "metadata": {},
   "outputs": [],
   "source": [
    "dependwh = rel.loc[rel.sentence.str.contains(\"depend on where|depend on how|depend on who\")]\n",
    "dependedwh = rel.loc[rel.sentence.str.contains(\"depended on where|depended on how|depended on who\")]\n",
    "dependswh = rel.loc[rel.sentence.str.contains(\"depends on where|depends on how|depends on who\")]"
   ]
  },
  {
   "cell_type": "code",
   "execution_count": 41,
   "metadata": {},
   "outputs": [],
   "source": [
    "\n",
    "# get indexes\n",
    "d1 = dependwh.index.values.tolist()\n",
    "d2 = dependedwh.index.values.tolist() \n",
    "d3 = dependedwh.index.values.tolist()\n",
    "\n",
    "# put them together unpacked\n",
    "depend_indexes = [*d1,*d2,*d3]"
   ]
  },
  {
   "cell_type": "code",
   "execution_count": 42,
   "metadata": {},
   "outputs": [],
   "source": [
    "# now edit the DF\n",
    "df.at[depend_indexes,'questType'] = 'Embeded Question'"
   ]
  },
  {
   "cell_type": "code",
   "execution_count": null,
   "metadata": {},
   "outputs": [],
   "source": []
  },
  {
   "cell_type": "markdown",
   "metadata": {},
   "source": [
    "## Ask"
   ]
  },
  {
   "cell_type": "code",
   "execution_count": 43,
   "metadata": {},
   "outputs": [],
   "source": [
    "ask = rel.loc[rel.mat_verb.isin([\"ask\"])]"
   ]
  },
  {
   "cell_type": "code",
   "execution_count": 44,
   "metadata": {},
   "outputs": [
    {
     "data": {
      "text/plain": [
       "2024"
      ]
     },
     "execution_count": 44,
     "metadata": {},
     "output_type": "execute_result"
    }
   ],
   "source": [
    "len(ask)"
   ]
  },
  {
   "cell_type": "code",
   "execution_count": 45,
   "metadata": {},
   "outputs": [],
   "source": [
    "askwh = rel.loc[rel.sentence.str.contains(\"ask where|ask how|ask who\")]\n",
    "askedwh = rel.loc[rel.sentence.str.contains(\"asked where|asked how|asked who\")]\n",
    "askswh = rel.loc[rel.sentence.str.contains(\"asks where|asks how|asks who\")]\n",
    "\n",
    "# get indexes\n",
    "a1 = askwh.index.values.tolist()\n",
    "a2 = askedwh.index.values.tolist() \n",
    "a3 = askedwh.index.values.tolist()\n",
    "\n",
    "# put them together unpacked\n",
    "ask_indexes = [*a1,*a2,*a3]"
   ]
  },
  {
   "cell_type": "code",
   "execution_count": 46,
   "metadata": {},
   "outputs": [],
   "source": [
    "# now edit the DF\n",
    "df.at[ask_indexes,'questType'] = 'Embeded Question'"
   ]
  },
  {
   "cell_type": "code",
   "execution_count": null,
   "metadata": {},
   "outputs": [],
   "source": []
  },
  {
   "cell_type": "code",
   "execution_count": null,
   "metadata": {},
   "outputs": [],
   "source": []
  },
  {
   "cell_type": "code",
   "execution_count": null,
   "metadata": {},
   "outputs": [],
   "source": []
  },
  {
   "cell_type": "markdown",
   "metadata": {},
   "source": [
    "## Surprise"
   ]
  },
  {
   "cell_type": "code",
   "execution_count": 34,
   "metadata": {},
   "outputs": [],
   "source": [
    "surprise = rel.loc[rel.sentence.str.contains(\"surprise\")]"
   ]
  },
  {
   "cell_type": "code",
   "execution_count": 35,
   "metadata": {},
   "outputs": [
    {
     "data": {
      "text/plain": [
       "965"
      ]
     },
     "execution_count": 35,
     "metadata": {},
     "output_type": "execute_result"
    }
   ],
   "source": [
    "len(surprise)"
   ]
  },
  {
   "cell_type": "code",
   "execution_count": 36,
   "metadata": {},
   "outputs": [
    {
     "data": {
      "text/plain": [
       "511     It ' s possible to create order by introducing...\n",
       "670     The findings don ' t surprise Australian food ...\n",
       "898     Common brown snakes like this one surprised th...\n",
       "1129    Hardly surprising Canine behaviourist and trai...\n",
       "1199    Meat and Livestock Australia says the average ...\n",
       "Name: sentence, dtype: object"
      ]
     },
     "execution_count": 36,
     "metadata": {},
     "output_type": "execute_result"
    }
   ],
   "source": [
    "surprise.sentence.head()"
   ]
  },
  {
   "cell_type": "code",
   "execution_count": 37,
   "metadata": {},
   "outputs": [],
   "source": [
    "surprise2 = rel.loc[rel.mat_verb.isin([\"surprise\"])]"
   ]
  },
  {
   "cell_type": "code",
   "execution_count": 38,
   "metadata": {},
   "outputs": [
    {
     "data": {
      "text/plain": [
       "116"
      ]
     },
     "execution_count": 38,
     "metadata": {},
     "output_type": "execute_result"
    }
   ],
   "source": [
    "len(surprise2)"
   ]
  },
  {
   "cell_type": "code",
   "execution_count": 48,
   "metadata": {},
   "outputs": [],
   "source": [
    "surprisewh = rel.loc[rel.sentence.str.contains(\"surprise where|surprise how|surprise who\")]\n",
    "surprisedwh = rel.loc[rel.sentence.str.contains(\"surprised where|surprised how|surprised who\")]\n",
    "surpriseswh = rel.loc[rel.sentence.str.contains(\"surprises where|surprises how|surprises who\")]\n",
    "\n",
    "# get indexes\n",
    "s1 = surprisewh.index.values.tolist()\n",
    "s2 = surprisedwh.index.values.tolist() \n",
    "s3 = surprisedwh.index.values.tolist()\n",
    "\n",
    "# put them together unpacked\n",
    "surprise_indexes = [*s1,*s2,*s3]"
   ]
  },
  {
   "cell_type": "code",
   "execution_count": 50,
   "metadata": {},
   "outputs": [],
   "source": [
    "# now edit the DF\n",
    "df.at[surprise_indexes,'questType'] = 'Embeded Question'"
   ]
  },
  {
   "cell_type": "markdown",
   "metadata": {},
   "source": [
    "## Tell"
   ]
  },
  {
   "cell_type": "code",
   "execution_count": 56,
   "metadata": {},
   "outputs": [],
   "source": [
    "tell = rel.loc[rel.mat_verb.isin([\"tell\"])]"
   ]
  },
  {
   "cell_type": "code",
   "execution_count": 40,
   "metadata": {},
   "outputs": [],
   "source": [
    "# tell.iloc[200].sentence"
   ]
  },
  {
   "cell_type": "code",
   "execution_count": 44,
   "metadata": {},
   "outputs": [
    {
     "data": {
      "text/plain": [
       "\"Dolly said one had got in, that he threatened to do her in if she didn't tell him where all the valuables were.\""
      ]
     },
     "execution_count": 44,
     "metadata": {},
     "output_type": "execute_result"
    }
   ],
   "source": [
    "s1 = tell.iloc[200].sentence\n",
    "s1"
   ]
  },
  {
   "cell_type": "code",
   "execution_count": 46,
   "metadata": {},
   "outputs": [
    {
     "name": "stdout",
     "output_type": "stream",
     "text": [
      "[('Dolly', 'RB'), ('said', 'VBD'), ('one', 'CD'), ('had', 'VBD'), ('got', 'VBN'), ('in', 'IN'), (',', ','), ('that', 'IN'), ('he', 'PRP'), ('threatened', 'VBD'), ('to', 'TO'), ('do', 'VB'), ('her', 'PRP$'), ('in', 'IN'), ('if', 'IN'), ('she', 'PRP'), ('did', 'VBD'), (\"n't\", 'RB'), ('tell', 'VB'), ('him', 'PRP'), ('where', 'WRB'), ('all', 'PDT'), ('the', 'DT'), ('valuables', 'NNS'), ('were', 'VBD'), ('.', '.')]\n"
     ]
    }
   ],
   "source": [
    "t1 = pos_tag(word_tokenize(s1))\n",
    "print(t1)"
   ]
  },
  {
   "cell_type": "code",
   "execution_count": 60,
   "metadata": {},
   "outputs": [],
   "source": [
    "# find all cases that minimize \n",
    "tell_emb = tell.loc[tell.sentence.str.contains(\"tell me/her/him/you/them/it where|who|how\", regex=True)]\n",
    "told_emb = tell.loc[tell.sentence.str.contains(\"told me/her/him/you/them/it where|who|how\", regex=True)]\n",
    "tells_emb = tell.loc[tell.sentence.str.contains(\"tells me/her/him/you/them/it where|who|how\", regex=True)]"
   ]
  },
  {
   "cell_type": "code",
   "execution_count": 61,
   "metadata": {},
   "outputs": [],
   "source": [
    "# get indexes\n",
    "td1 = tell_emb.index.values.tolist()\n",
    "td2 = told_emb.index.values.tolist() \n",
    "td3 = tells_emb.index.values.tolist()\n",
    "\n",
    "tell_do_indexes = [*td1,*td2,*td3]"
   ]
  },
  {
   "cell_type": "code",
   "execution_count": 62,
   "metadata": {},
   "outputs": [
    {
     "data": {
      "text/plain": [
       "304       He tells the story of a woman who told him at a book signing that her son , once a high school drop - out and surf bum , decided to become a geneticist after listening to him on Triple J radio .                                                                                                              \n",
       "627       It tells farmers who they are , where they ' ve been and where they might be going to as far as a place that encapsulates their cultural heritage ,\" she says . \"                                                                                                                                               \n",
       "736       These dodo bones , found recently on the island of Mauritius , tell a different story of how these birds became extinct Scientists who unearthed a mass dodo grave in Mauritius say they have found evidence showing a natural disaster killed the birds long before humans arrived on the Indian Ocean island .\n",
       "753       We found that the features related to the red - eye artefact , the pupil dilation , are very good features to tell us how old someone is ,\" says Gallagher , who recently filed a patent on the technology .                                                                                                    \n",
       "963       For example , she tells the joke about the prisoner who plays cards with his wardens .                                                                                                                                                                                                                          \n",
       "                                                   ...                                                                                                                                                                                                                                                                    \n",
       "425556    \\\" I'm going to tell everybody how big a snake I killed ``.                                                                                                                                                                                                                                                     \n",
       "425579    Fighting pleasure itself, he begged B'dikkat to check the records and to tell him how long he had been there.                                                                                                                                                                                                   \n",
       "426179    CUBA TELLS TRADERS SUGAR EXPORTS MAY BE DELAYED Cuba has told international sugar operators who have bought its sugar for shipment in March that these contracts will take second place to Cuba ' s direct shipments to its export markets , dealers here said .                                                \n",
       "426241    COOPER SAYS OFFER MUST INCLUDE CLASS A SHARES & lt ; Cooper Canada Ltd > said it told those who have expressed interest in acquiring control of the company that it would entertain no offer unless it were made to holders both of class A non - voting shares and voting common .                             \n",
       "426922    `` Many in the United States , including many friends of China , believe 0 the crackdown was excessive and unjustified , `` Mr. Nixon told Mr. Yang , who was directly involved in ordering the attack .                                                                                                        \n",
       "Name: sentence, Length: 2948, dtype: object"
      ]
     },
     "execution_count": 62,
     "metadata": {},
     "output_type": "execute_result"
    }
   ],
   "source": [
    "tell_emb.sentence"
   ]
  },
  {
   "cell_type": "code",
   "execution_count": null,
   "metadata": {},
   "outputs": [],
   "source": []
  },
  {
   "cell_type": "code",
   "execution_count": 51,
   "metadata": {},
   "outputs": [],
   "source": [
    "# tell.to_csv(\"tell.csv\", header = True)"
   ]
  },
  {
   "cell_type": "code",
   "execution_count": 52,
   "metadata": {},
   "outputs": [],
   "source": [
    "tellwh = rel.loc[rel.sentence.str.contains(\"tell where|tell how|tell who\")]\n",
    "toldwh = rel.loc[rel.sentence.str.contains(\"told where|told how|told who\")]\n",
    "tellswh = rel.loc[rel.sentence.str.contains(\"tells where|tells how|tells who\")]\n",
    "\n",
    "# get indexes\n",
    "t1 = tellwh.index.values.tolist()\n",
    "t2 = toldwh.index.values.tolist() \n",
    "t3 = tellswh.index.values.tolist()\n",
    "\n",
    "# put them together unpacked\n",
    "tell_indexes = [*t1,*t2,*t3]"
   ]
  },
  {
   "cell_type": "code",
   "execution_count": null,
   "metadata": {},
   "outputs": [],
   "source": []
  },
  {
   "cell_type": "code",
   "execution_count": null,
   "metadata": {},
   "outputs": [],
   "source": []
  },
  {
   "cell_type": "markdown",
   "metadata": {},
   "source": [
    "# Finish and save to .json"
   ]
  },
  {
   "cell_type": "code",
   "execution_count": 63,
   "metadata": {},
   "outputs": [],
   "source": [
    "df.to_json(\"edited_edited2_corpus.json\", orient='columns')"
   ]
  },
  {
   "cell_type": "code",
   "execution_count": null,
   "metadata": {},
   "outputs": [],
   "source": []
  }
 ],
 "metadata": {
  "kernelspec": {
   "display_name": "Python 3",
   "language": "python",
   "name": "python3"
  },
  "language_info": {
   "codemirror_mode": {
    "name": "ipython",
    "version": 3
   },
   "file_extension": ".py",
   "mimetype": "text/x-python",
   "name": "python",
   "nbconvert_exporter": "python",
   "pygments_lexer": "ipython3",
   "version": "3.7.4"
  }
 },
 "nbformat": 4,
 "nbformat_minor": 2
}
