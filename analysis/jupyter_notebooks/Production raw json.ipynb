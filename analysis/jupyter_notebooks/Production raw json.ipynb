{
 "cells": [
  {
   "cell_type": "code",
   "execution_count": 65,
   "metadata": {},
   "outputs": [],
   "source": [
    "from __future__ import division\n",
    "import pandas as pd\n",
    "import seaborn as sns\n",
    "import matplotlib.pyplot as plt\n",
    "import matplotlib as mpl \n",
    "import numpy as np"
   ]
  },
  {
   "cell_type": "code",
   "execution_count": 66,
   "metadata": {},
   "outputs": [],
   "source": [
    "df = pd.read_json(\"production.json\")"
   ]
  },
  {
   "cell_type": "code",
   "execution_count": 67,
   "metadata": {},
   "outputs": [
    {
     "data": {
      "text/html": [
       "<div>\n",
       "<style scoped>\n",
       "    .dataframe tbody tr th:only-of-type {\n",
       "        vertical-align: middle;\n",
       "    }\n",
       "\n",
       "    .dataframe tbody tr th {\n",
       "        vertical-align: top;\n",
       "    }\n",
       "\n",
       "    .dataframe thead th {\n",
       "        text-align: right;\n",
       "    }\n",
       "</style>\n",
       "<table border=\"1\" class=\"dataframe\">\n",
       "  <thead>\n",
       "    <tr style=\"text-align: right;\">\n",
       "      <th></th>\n",
       "      <th>Unnamed: 0</th>\n",
       "      <th>subject</th>\n",
       "      <th>Nat_lang</th>\n",
       "      <th>factors</th>\n",
       "      <th>sentence</th>\n",
       "      <th>trial</th>\n",
       "      <th>stakes</th>\n",
       "      <th>story</th>\n",
       "      <th>wh</th>\n",
       "    </tr>\n",
       "  </thead>\n",
       "  <tbody>\n",
       "    <tr>\n",
       "      <td>0</td>\n",
       "      <td>0</td>\n",
       "      <td>1.0</td>\n",
       "      <td>na</td>\n",
       "      <td>practice-na-lamp-na</td>\n",
       "      <td>What lamp will provide enough light for reading?</td>\n",
       "      <td>practice</td>\n",
       "      <td>na</td>\n",
       "      <td>lamp</td>\n",
       "      <td>na</td>\n",
       "    </tr>\n",
       "    <tr>\n",
       "      <td>1</td>\n",
       "      <td>1</td>\n",
       "      <td>2.0</td>\n",
       "      <td>na</td>\n",
       "      <td>practice-na-lamp-na</td>\n",
       "      <td>Where can i find a lamp with good lighting?</td>\n",
       "      <td>practice</td>\n",
       "      <td>na</td>\n",
       "      <td>lamp</td>\n",
       "      <td>na</td>\n",
       "    </tr>\n",
       "    <tr>\n",
       "      <td>2</td>\n",
       "      <td>2</td>\n",
       "      <td>3.0</td>\n",
       "      <td>na</td>\n",
       "      <td>practice-na-lamp-na</td>\n",
       "      <td>How bright is this lamp?</td>\n",
       "      <td>practice</td>\n",
       "      <td>na</td>\n",
       "      <td>lamp</td>\n",
       "      <td>na</td>\n",
       "    </tr>\n",
       "    <tr>\n",
       "      <td>3</td>\n",
       "      <td>3</td>\n",
       "      <td>4.0</td>\n",
       "      <td>na</td>\n",
       "      <td>practice-na-lamp-na</td>\n",
       "      <td>Do you have a lamp that will provide enough li...</td>\n",
       "      <td>practice</td>\n",
       "      <td>na</td>\n",
       "      <td>lamp</td>\n",
       "      <td>na</td>\n",
       "    </tr>\n",
       "    <tr>\n",
       "      <td>4</td>\n",
       "      <td>4</td>\n",
       "      <td>5.0</td>\n",
       "      <td>na</td>\n",
       "      <td>practice-na-lamp-na</td>\n",
       "      <td>What is your brightest lamp?</td>\n",
       "      <td>practice</td>\n",
       "      <td>na</td>\n",
       "      <td>lamp</td>\n",
       "      <td>na</td>\n",
       "    </tr>\n",
       "  </tbody>\n",
       "</table>\n",
       "</div>"
      ],
      "text/plain": [
       "   Unnamed: 0 subject Nat_lang              factors  \\\n",
       "0           0     1.0       na  practice-na-lamp-na   \n",
       "1           1     2.0       na  practice-na-lamp-na   \n",
       "2           2     3.0       na  practice-na-lamp-na   \n",
       "3           3     4.0       na  practice-na-lamp-na   \n",
       "4           4     5.0       na  practice-na-lamp-na   \n",
       "\n",
       "                                            sentence     trial stakes story  \\\n",
       "0   What lamp will provide enough light for reading?  practice     na  lamp   \n",
       "1        Where can i find a lamp with good lighting?  practice     na  lamp   \n",
       "2                          How bright is this lamp?   practice     na  lamp   \n",
       "3  Do you have a lamp that will provide enough li...  practice     na  lamp   \n",
       "4                       What is your brightest lamp?  practice     na  lamp   \n",
       "\n",
       "   wh  \n",
       "0  na  \n",
       "1  na  \n",
       "2  na  \n",
       "3  na  \n",
       "4  na  "
      ]
     },
     "execution_count": 67,
     "metadata": {},
     "output_type": "execute_result"
    }
   ],
   "source": [
    "df.head()"
   ]
  },
  {
   "cell_type": "code",
   "execution_count": 68,
   "metadata": {},
   "outputs": [],
   "source": [
    "test = df.loc[df.trial.isin([\"test\"])]\n",
    "filler = df.loc[df.trial.isin([\"filler\"])]\n",
    "\n",
    "high = test.loc[test.stakes.isin([\"high\"])]\n",
    "low = test.loc[test.stakes.isin([\"low\"])]"
   ]
  },
  {
   "cell_type": "code",
   "execution_count": 69,
   "metadata": {},
   "outputs": [
    {
     "data": {
      "text/plain": [
       "36"
      ]
     },
     "execution_count": 69,
     "metadata": {},
     "output_type": "execute_result"
    }
   ],
   "source": [
    "len(pd.unique(test.subject))"
   ]
  },
  {
   "cell_type": "code",
   "execution_count": 70,
   "metadata": {},
   "outputs": [],
   "source": [
    "where = test.loc[test.sentence.str.contains(\"Where\")]\n",
    "who = test.loc[test.sentence.str.contains(\"Who\")]\n",
    "which = test.loc[test.sentence.str.contains(\"Which\")]\n",
    "how = test.loc[test.sentence.str.contains(\"How\")]\n",
    "what = test.loc[test.sentence.str.contains(\"What\")]"
   ]
  },
  {
   "cell_type": "code",
   "execution_count": 71,
   "metadata": {},
   "outputs": [
    {
     "data": {
      "text/plain": [
       "205"
      ]
     },
     "execution_count": 71,
     "metadata": {},
     "output_type": "execute_result"
    }
   ],
   "source": [
    "len(where)"
   ]
  },
  {
   "cell_type": "code",
   "execution_count": 72,
   "metadata": {},
   "outputs": [],
   "source": [
    "can = test.loc[test[\"sentence\"].str.contains(\"can\")]\n",
    "which = test.loc[test[\"sentence\"].str.contains(\"Which\")]\n",
    "how = test.loc[test[\"sentence\"].str.contains(\"How\")]\n",
    "who = test.loc[test.sentence.str.contains(\"Who\")]\n",
    "where = test.loc[test.sentence.str.contains(\"Where\")]\n",
    "what = test.loc[test.sentence.str.contains(\"What\")]\n",
    "polar = test.loc[test.sentence.str.contains(\"Are|Can|Do|Have|Is|Has\")]\n",
    "siri = filler.loc[filler.sentence.str.contains(\"Siri\")]"
   ]
  },
  {
   "cell_type": "code",
   "execution_count": 73,
   "metadata": {},
   "outputs": [],
   "source": [
    "all = test.loc[test[\"sentence\"].str.contains(\"all\")]\n",
    "some = test.loc[test[\"sentence\"].str.contains(\"some\")]\n",
    "close = test.loc[test[\"sentence\"].str.contains(\"close\")]\n",
    "local = test.loc[test[\"sentence\"].str.contains(\"local\")]\n",
    "nearby = test.loc[test[\"sentence\"].str.contains(\"nearby\")]"
   ]
  },
  {
   "cell_type": "code",
   "execution_count": 74,
   "metadata": {},
   "outputs": [
    {
     "data": {
      "text/html": [
       "<div>\n",
       "<style scoped>\n",
       "    .dataframe tbody tr th:only-of-type {\n",
       "        vertical-align: middle;\n",
       "    }\n",
       "\n",
       "    .dataframe tbody tr th {\n",
       "        vertical-align: top;\n",
       "    }\n",
       "\n",
       "    .dataframe thead th {\n",
       "        text-align: right;\n",
       "    }\n",
       "</style>\n",
       "<table border=\"1\" class=\"dataframe\">\n",
       "  <thead>\n",
       "    <tr style=\"text-align: right;\">\n",
       "      <th></th>\n",
       "      <th>sentence</th>\n",
       "    </tr>\n",
       "    <tr>\n",
       "      <th>stakes</th>\n",
       "      <th></th>\n",
       "    </tr>\n",
       "  </thead>\n",
       "  <tbody>\n",
       "    <tr>\n",
       "      <td>high</td>\n",
       "      <td>34</td>\n",
       "    </tr>\n",
       "    <tr>\n",
       "      <td>low</td>\n",
       "      <td>7</td>\n",
       "    </tr>\n",
       "  </tbody>\n",
       "</table>\n",
       "</div>"
      ],
      "text/plain": [
       "        sentence\n",
       "stakes          \n",
       "high          34\n",
       "low            7"
      ]
     },
     "execution_count": 74,
     "metadata": {},
     "output_type": "execute_result"
    }
   ],
   "source": [
    "which.pivot_table(index=['stakes'], values='sentence', aggfunc=len)\n"
   ]
  },
  {
   "cell_type": "code",
   "execution_count": 75,
   "metadata": {},
   "outputs": [
    {
     "name": "stdout",
     "output_type": "stream",
     "text": [
      "Total in Test: 432\n",
      "Occurrences of 'can' in test: 20 \n",
      "\t Can: 4.63%\n",
      "Occurrences of 'all': 16 \n",
      "\t All: 3.70%\n",
      "Occurrences of 'some': 14 \n",
      "\t Some: 3.24%\n",
      "Occurrences of 'close': 18 \n",
      "\t Close: 4.17%\n",
      "Occurrences of 'local': 10 \n",
      "\t Local: 2.31%\n",
      "Occurrences of 'which': 41 \n",
      "\t Which: 9.49%\n",
      "Occurrences of 'where': 205 \n",
      "\t Where: 47.45%\n",
      "Occurrences of 'who': 2 \n",
      "\t Who: 0.46%\n",
      "Occurrences of 'how': 17 \n",
      "\t How: 3.94%\n",
      "Occurrences of 'what': 76 \n",
      "\t What: 17.59%\n",
      "Occurrences of polar-q: 85 \n",
      "\t Polar: 19.68%\n",
      "Total with a wh-word: 78.94%\n"
     ]
    }
   ],
   "source": [
    "print(f\"Total in Test: {len(test)}\")\n",
    "print(f\"Occurrences of 'can' in test: {len(can)} \\n\\t Can: {len(can)/len(test)*100:.2f}%\")\n",
    "print(f\"Occurrences of 'all': {len(all)} \\n\\t All: {len(all)/len(test)*100:.2f}%\")\n",
    "print(f\"Occurrences of 'some': {len(some)} \\n\\t Some: {len(some)/len(test)*100:.2f}%\")\n",
    "print(f\"Occurrences of 'close': {len(close)} \\n\\t Close: {len(close)/len(test)*100:.2f}%\")\n",
    "print(f\"Occurrences of 'local': {len(local)} \\n\\t Local: {len(local)/len(test)*100:.2f}%\")\n",
    "print(f\"Occurrences of 'which': {len(which)} \\n\\t Which: {len(which)/len(test)*100:.2f}%\")\n",
    "print(f\"Occurrences of 'where': {len(where)} \\n\\t Where: {len(where)/len(test)*100:.2f}%\")\n",
    "print(f\"Occurrences of 'who': {len(who)} \\n\\t Who: {len(who)/len(test)*100:.2f}%\")\n",
    "print(f\"Occurrences of 'how': {len(how)} \\n\\t How: {len(how)/len(test)*100:.2f}%\")\n",
    "print(f\"Occurrences of 'what': {len(what)} \\n\\t What: {len(what)/len(test)*100:.2f}%\")\n",
    "print(f\"Occurrences of polar-q: {len(polar)} \\n\\t Polar: {len(polar)/len(test)*100:.2f}%\")\n",
    "\n",
    " \n",
    "print(f\"Total with a wh-word: {(len(how)+len(which)+len(where)+len(who)+len(what))/len(test)*100:.2f}%\")"
   ]
  },
  {
   "cell_type": "code",
   "execution_count": 76,
   "metadata": {},
   "outputs": [],
   "source": [
    "test.to_csv(\"prod_test.csv\", header=True)"
   ]
  },
  {
   "cell_type": "code",
   "execution_count": 77,
   "metadata": {},
   "outputs": [],
   "source": [
    "t = pd.read_csv(\"prod_test.csv\")"
   ]
  },
  {
   "cell_type": "code",
   "execution_count": 78,
   "metadata": {},
   "outputs": [],
   "source": [
    "# Convert CSV to JSON for running the parser\n",
    "csvFilePath = 'prod_test.csv'\n",
    "jsonFilePath = 'prod_test.json'\n",
    "\n",
    "j = pd.read_csv(csvFilePath)\n",
    "\n",
    "with open(jsonFilePath, 'w') as jas:\n",
    "    jas.write(j.to_json(orient='records'))"
   ]
  },
  {
   "cell_type": "code",
   "execution_count": 81,
   "metadata": {},
   "outputs": [
    {
     "data": {
      "text/plain": [
       "432"
      ]
     },
     "execution_count": 81,
     "metadata": {},
     "output_type": "execute_result"
    }
   ],
   "source": [
    "len(pd.read_json(\"prod_test.json\"))"
   ]
  },
  {
   "cell_type": "code",
   "execution_count": 79,
   "metadata": {},
   "outputs": [],
   "source": [
    "tf = pd.read_json(\"tagged_prod_test.json\")"
   ]
  },
  {
   "cell_type": "code",
   "execution_count": 80,
   "metadata": {},
   "outputs": [
    {
     "data": {
      "text/plain": [
       "239"
      ]
     },
     "execution_count": 80,
     "metadata": {},
     "output_type": "execute_result"
    }
   ],
   "source": [
    "len(tf)"
   ]
  },
  {
   "cell_type": "code",
   "execution_count": null,
   "metadata": {},
   "outputs": [],
   "source": []
  }
 ],
 "metadata": {
  "kernelspec": {
   "display_name": "Python 3",
   "language": "python",
   "name": "python3"
  },
  "language_info": {
   "codemirror_mode": {
    "name": "ipython",
    "version": 3
   },
   "file_extension": ".py",
   "mimetype": "text/x-python",
   "name": "python",
   "nbconvert_exporter": "python",
   "pygments_lexer": "ipython3",
   "version": "3.7.4"
  }
 },
 "nbformat": 4,
 "nbformat_minor": 2
}
